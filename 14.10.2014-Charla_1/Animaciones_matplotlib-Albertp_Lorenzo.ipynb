{
 "metadata": {
  "name": "",
  "signature": "sha256:95558caab2b820765fb3097143fc37147e2dfc018cb9fc71c3b49dd62e0aea64"
 },
 "nbformat": 3,
 "nbformat_minor": 0,
 "worksheets": [
  {
   "cells": [
    {
     "cell_type": "heading",
     "level": 1,
     "metadata": {},
     "source": [
      "*** Animaciones ***"
     ]
    },
    {
     "cell_type": "markdown",
     "metadata": {},
     "source": [
      "El presente documento se distribuye bajo una licencia [Licencia Creative Commons Atribuci\u00f3n 4.0 Internacional](http://creativecommons.org/licenses/by/4.0/deed.es). Realizado el 10/04/2014 por Alberto Lorenzo ([@newlawrence](https://twitter.com/newlawrence))\n",
      "\n",
      "Para este *notebook* se ha utilizado:\n",
      "\n",
      "> ***Python 3.3.5***\n",
      "\n",
      "> ***numpy 1.8.0***\n",
      "\n",
      "> ***matplotlib 1.3.1***\n",
      "\n",
      "> ***IPython 2.0.0***"
     ]
    },
    {
     "cell_type": "heading",
     "level": 3,
     "metadata": {},
     "source": [
      "Introducci\u00f3n"
     ]
    },
    {
     "cell_type": "markdown",
     "metadata": {},
     "source": [
      "De todas las variables matem\u00e1ticas de nuestras f\u00f3rmulas, probablemente ninguna tenga un significado m\u00e1s especial que la temporal. El tiempo, dif\u00edcil de definir, solemos describirlo como aquello que, simplemente, pasa. Tener una ecuaci\u00f3n matem\u00e1tica que describa la evoluci\u00f3n de un sistema o magnitud est\u00e1 bien... pero no hay nada como ver dicha evoluci\u00f3n en tiempo real.\n",
      "\n",
      "Las animaciones son un poderoso reclamo visual para nuestros trabajos y veremos que *Matplotlib* nos permitir\u00e1 realizarlas de una manera r\u00e1pida y sencilla"
     ]
    },
    {
     "cell_type": "heading",
     "level": 4,
     "metadata": {},
     "source": [
      "\u00bfQu\u00e9 necesitamos?"
     ]
    },
    {
     "cell_type": "markdown",
     "metadata": {},
     "source": [
      "Como m\u00ednimo, s\u00f3lo una funci\u00f3n de *Matplotlib*, bueno... dos; una de *Matplotlib* y otra que definiremos nosotros. Pero vayamos paso por paso.\n",
      "\n",
      "El m\u00f3dulo *animation* de *Matplotlib* provee herramientas tremendamente potentes y flexibles, pero nosotros s\u00f3lo haremos uso de la funci\u00f3n **FuncAnimation**, que es la de m\u00e1s alto nivel (y por lo tanto m\u00e1s sencilla) y que nos servir\u00e1 para crear casi cualquier cosa que seamos capaces de imaginar.\n",
      "\n",
      "Comencemos importando todo lo necesario:"
     ]
    },
    {
     "cell_type": "code",
     "collapsed": false,
     "input": [
      "# Primero las bibliotecas b\u00e1sicas de toda la vida\n",
      "import numpy as np\n",
      "import matplotlib.pyplot as plt\n",
      "\n",
      "import matplotlib as mpl    # Para importar las clases colormap y colorbar\n",
      "\n",
      "# Unas cuantas figuritas vistosas\n",
      "from matplotlib.patches import Circle\n",
      "from matplotlib.patches import FancyArrowPatch\n",
      "\n",
      "# Nuestra funci\u00f3n principal\n",
      "from matplotlib.animation import FuncAnimation"
     ],
     "language": "python",
     "metadata": {},
     "outputs": [],
     "prompt_number": 1
    },
    {
     "cell_type": "heading",
     "level": 4,
     "metadata": {},
     "source": [
      "FuncAnimation"
     ]
    },
    {
     "cell_type": "markdown",
     "metadata": {},
     "source": [
      "La funci\u00f3n **FuncAnimation** devuelve un objeto que contiene toda la informaci\u00f3n necesaria para representar en pantalla y guardar nuestra animaci\u00f3n en un fichero. La especificaci\u00f3n completa puede consultarse en su docstring:"
     ]
    },
    {
     "cell_type": "code",
     "collapsed": false,
     "input": [
      "FuncAnimation?"
     ],
     "language": "python",
     "metadata": {},
     "outputs": [],
     "prompt_number": 2
    },
    {
     "cell_type": "markdown",
     "metadata": {},
     "source": [
      "De todas formas, vamos a comentar un poquillo los argumentos con los que se la suele llamar normalmente:\n",
      "\n",
      "Los dos primeros argumentos son obligatorios, el primero es la figura de *Matplotlib* que queremos animar y el segundo es una funci\u00f3n definida por nosotros de la que ahora hablaremos.\n",
      "\n",
      "Los par\u00e1metros adicionales a especificar son:\n",
      "\n",
      "> **frames**:  es el n\u00famero de cuadros que va a contener nuestra animaci\u00f3n (el n\u00famero de capturas vamos, a los aficionados a los videojuegos no les pillar\u00e1 de nuevas).\n",
      "\n",
      "> **interval**: el espacio de tiempo en milisegundos entre capturas.\n",
      "\n",
      "> **blit**: es una bandera que si se establece en verdadero refresca s\u00f3lo los objetos especificados en vez de repintar la figura entera. Aunque a veces es un poco rollo, es conveniente que hagamos nuestras animaciones con el blitting activado para reducir la carga del ordenador y que estas puedan verse m\u00e1s flu\u00eddas.\n",
      "\n",
      "> **repeat**: es una bandera que por defecto est\u00e1 activada con el valor True. Hace que nuestra animaci\u00f3n se repita en bucle ignorando el valor dado a frames (s\u00f3lo afecta a la animaci\u00f3n desde nuestro c\u00f3digo Python, si la exportamos a un archivo de v\u00eddeo se mantienen los frames especificados).\n",
      "\n",
      "Ejemplo de llamada:\n",
      "\n",
      "***mi_objeto_animacion*** = **FuncAnimation**(*nuestra_figura*, *nuestra_funcion_animadora*, *frames=1000*, *interval=50*, *blit=True*, *repeat=False*)"
     ]
    },
    {
     "cell_type": "markdown",
     "metadata": {},
     "source": [
      "La funci\u00f3n que hemos de definir nosotros ha de aceptar un \u00fanico argumento, que FuncAnimation se encargar\u00e1 de ir rellenando con una sucesi\u00f3n de n\u00fameros enteros en cada llamada ***(0, 0, 1, 2, 3, 4...)*** (el motivo del doble 0, es que **FuncAnimation** necesita de un cuadro inicial, pero ya hablaremos de ello cuando lo necesitemos). Por otro lad, **si hemos activado el *blitting*, nuestra funci\u00f3n deber\u00e1 retornar una lista con todos los objetos que han de ser actualizados**.\n",
      "\n",
      "La interfaz de nuestra funci\u00f3n ser\u00e1 pues:\n",
      "***def*** **mi_funcion_animadora**(*contador*):\n",
      "\n",
      "Para entender c\u00f3mo se ha de definir esta funci\u00f3n, procedamos con algunos ejemplos."
     ]
    },
    {
     "cell_type": "heading",
     "level": 2,
     "metadata": {},
     "source": [
      "Ejemplos"
     ]
    },
    {
     "cell_type": "heading",
     "level": 3,
     "metadata": {},
     "source": [
      "Animando sin(x)"
     ]
    },
    {
     "cell_type": "markdown",
     "metadata": {},
     "source": [
      "Este ejemplo es muy sencillo. El procedimiento es id\u00e9ntico al que seguimos para pintar la gr\u00e1fica de la funci\u00f3n seno, s\u00f3lo que esta vez pintaremos una l\u00ednea vac\u00eda (que luego iremos rellenando con valores a medida que los calculamos).\n",
      "\n",
      "Un momento... \u00bfl\u00edneas vac\u00edas? Pues s\u00ed, haciendo: **plot**([], []). La funci\u00f3n **plot** de *Matplotlib* devuelve una lista con las referencias a todas las l\u00edneas que pinta, as\u00ed que podemos guardar dichas referencias en variables para luego poder actualizar las l\u00edneas a medida que vayamos calculando datos.\n",
      "\n",
      "Hay que recordar que **plot** devuelve una lista, as\u00ed que como s\u00f3lo vamos a pintar una l\u00ednea queremos la referencia del primer elemento cosa que podemos hacer de dos maneras (\u00a1ojo, que es muy f\u00e1cil olvidarse de esto!):\n",
      "\n",
      "> linea, = **plot**(...)\n",
      "\n",
      "> linea = **plot**(...)[0]"
     ]
    },
    {
     "cell_type": "code",
     "collapsed": false,
     "input": [
      "# Creamos nuestro gr\u00e1fico y unos ejes\n",
      "fig, ax = plt.subplots()\n",
      "ax.set_xlim(0, 360)\n",
      "ax.set_ylim(-2., 2.)\n",
      "\n",
      "# Creamos una l\u00ednea vac\u00eda y guardamos la referencia\n",
      "line, = ax.plot([], [], linewidth=2)\n",
      "\n",
      "\n",
      "def animate(ii):\n",
      "    ''' Esta es la funci\u00f3n principal.\n",
      "    \n",
      "        Vamos a aprovechar que FuncAnimation asigna n\u00fameros enteros a ii, y vamos a dibujar la gr\u00e1fica utilizando\n",
      "        grados cent\u00edgrados en lugar de radianes. Utilizando el operador resto (%), nos aseguramos que ii vaya tomando\n",
      "        valores de 0 a 359 de forma c\u00edclica, haciendo que nuestra animaci\u00f3n se repita de forma peri\u00f3dica\n",
      "    '''\n",
      "    \n",
      "    # Creamos los vectores con los valores de x e y\n",
      "    # Como puede verse, en cada llamada se va incrementando el n\u00famero de puntos haciendo avanzar la gr\u00e1fica \"hacia adelante\"\n",
      "    x = np.linspace(0, ii % 360, 100)\n",
      "    y = np.sin(np.deg2rad(x))\n",
      "    \n",
      "    line.set_data(x, y)    # Esta es la forma en que actualizamos la informaci\u00f3n de las l\u00edneas\n",
      "\n",
      "    # No olvidemos retornar nuestro objeto linea o de lo contrario \u00a1\u00a1no se actualizar\u00e1!!\n",
      "    return line,\n",
      "\n",
      "# Llamamos a FuncAnimation\n",
      "animation = FuncAnimation(fig, animate, frames=3600, interval=50, blit=True)\n",
      "\n",
      "plt.show()    # Para que matplotlib genere el gr\u00e1fico mostrando la animaci\u00f3n\n"
     ],
     "language": "python",
     "metadata": {},
     "outputs": [],
     "prompt_number": 3
    },
    {
     "cell_type": "heading",
     "level": 3,
     "metadata": {},
     "source": [
      "Onda senoidal"
     ]
    },
    {
     "cell_type": "markdown",
     "metadata": {},
     "source": [
      "Vamos a dar una vuelta de tuerca. De matem\u00e1ticas sabemos que sumando una constante a la variable independiente de una funci\u00f3n de una \u00fanica variable desplazamos esta hacia la izquierda. Podemos usar este efecto para trasladar nuestra funci\u00f3n seno en cada cuadro y simular una onda viajera.\n",
      "\n",
      "En este caso, nos vamos a encontrar con una dificultad. Como vimos, **FuncAnimation** va a dar los valores ***(0, 0, 1, 2, 3...)*** a la variable que utilice como contador. Ese primer ***0***, lo utilizar\u00e1 para calcular el primer cuadro a partir de cu\u00e1l ir\u00e1 repintando. Eso significa que aunque veamos un seno desplaz\u00e1ndose en nuestra animaci\u00f3n, de fondo quedar\u00e1 la funci\u00f3n original est\u00e1tica estropeando el resultado.\n",
      "\n",
      "Como lo que normalmente querremos es que el cuadro sobre el cu\u00e1l se va a dibujar est\u00e9 en blanco, podemos definir una funci\u00f3n inicial que **FuncAnimation** se encargar\u00e1 de utilizar. Utilizaremos esta funci\u00f3n inicial para establecer los elementos a redibujar al valor que queramos, en lugar del calculado por **FuncAnimation** con el valor *contador=0*."
     ]
    },
    {
     "cell_type": "code",
     "collapsed": false,
     "input": [
      "# Creamos nuestro gr\u00e1fico y unos ejes\n",
      "fig, ax = plt.subplots()\n",
      "ax.set_xlim(-180, 180)\n",
      "ax.set_ylim(-2., 2.)\n",
      "\n",
      "# Creamos una l\u00ednea vac\u00eda y guardamos la referencia\n",
      "line, = ax.plot([], [], linewidth=2)\n",
      "\n",
      "\n",
      "def init():\n",
      "    ''' Esta funci\u00f3n se llamar\u00e1 para pintar el primer cuadro.\n",
      "    '''\n",
      "    \n",
      "    # Como queremos que el primer cuadro est\u00e9 vac\u00edo\n",
      "    line.set_data([], [])\n",
      "    \n",
      "    # Que no se nosolvide retornar los elementos que han de actualizarse\n",
      "    return line,\n",
      "\n",
      "\n",
      "def animate(ii):\n",
      "    ''' Ahora lo que hacemos es crear un vector x de una amplitud mayor a nuestro dominio, que en cada paso iremos\n",
      "        incrementando hasta alcanzar 360\u00ba.\n",
      "    '''\n",
      "    \n",
      "    # Creamos los vectores con los valores de x y de y\n",
      "    x = np.linspace(-540, 180, 100)\n",
      "    delta_x = (x.max() - x.min()) / x.size\n",
      "    y = np.sin(np.deg2rad(x + (ii * delta_x) % 360))\n",
      "    \n",
      "    # Actualizamos la informaci\u00f3n de nuestro objeto l\u00ednea\n",
      "    line.set_data(x, y)\n",
      "\n",
      "    # Que no se nos olvide retornar los objetos que han de actualizarse\n",
      "    return line,\n",
      "\n",
      "# Llamamos a FuncAnimation a\u00f1adiendo nuestra funci\u00f3n inicializadora\n",
      "animation = FuncAnimation(fig, animate, init_func=init, frames=3600, interval=100, blit=True)\n",
      "\n",
      "plt.show()    # Representamos"
     ],
     "language": "python",
     "metadata": {},
     "outputs": []
    },
    {
     "cell_type": "heading",
     "level": 3,
     "metadata": {},
     "source": [
      "Oscilador arm\u00f3nico"
     ]
    },
    {
     "cell_type": "markdown",
     "metadata": {},
     "source": [
      "Vamos a poner toda la carne en el asador y vamos a representar una part\u00edcula oscilando arm\u00f3nicamente bajo la acci\u00f3n de una fuerza el\u00e1stica lineal. El problema a considerar es:\n",
      "\n",
      "$$ x = \\sin(x) $$    $$ v = \\cos(x) $$    $$ F = -\\sin(x) $$\n",
      "\n",
      "Para la part\u00edcula utilizaremos un *patch **Circle*** y para el vector velocidad un *patch **FancyArrowPatch***. La magnitud de la fuerza la representaremos variando el color de la part\u00edcula. Al mismo tiempo, veremos como mostrar texto por la pantalla y c\u00f3mo actualizar el mismo.\n",
      "\n",
      "El c\u00f3digo es un poco m\u00e1s complejo, pero no nos dejemos abrumar."
     ]
    },
    {
     "cell_type": "code",
     "collapsed": false,
     "input": [
      "# Creamos una figura, unos ejes, y otros ejes adicionales para la colorbar que utilizaremos para visualizar la intensidad\n",
      "# de la fuerza.\n",
      "fig, ax = plt.subplots(figsize=(5., 5.))\n",
      "ax.set_xlim(-2, 2)\n",
      "ax.set_ylim(-2., 2.)\n",
      "axb = fig.add_axes([0.215, 0.25, 0.6, 0.05])\n",
      "\n",
      "# El objeto color map devuelve un color de un determinado degradado, cuando es llamado utilizando un n\u00famero real entre 0 y 1.\n",
      "# Como nuestra fuerza est\u00e1 entre esos valores, podemos llamarlo directamente utilizando su intensidad.\n",
      "cmap = mpl.cm.jet\n",
      "\n",
      "# Creamos la colorbar y la asociamos a los ejes expresos para ella.\n",
      "cbar = mpl.colorbar.ColorbarBase(axb, cmap=cmap, orientation='horizontal')\n",
      "cbar.set_label(r'$|F|$', fontsize=16)\n",
      "\n",
      "# Creamos nuestro objeto c\u00edrculo y lo asociamos a nuestros ejes.\n",
      "c = Circle([0., 0.], 0.5, edgecolor='white')\n",
      "ax.add_patch(c)\n",
      "\n",
      "# Creamos nuestro objeto flecha y lo asociamos a nuestros ejes.\n",
      "a = FancyArrowPatch([0., 0.], [0., 0.], linewidth=2, facecolor='red', edgecolor='red')\n",
      "a.set_arrowstyle('simple', head_length=6., head_width=2.5)\n",
      "ax.add_patch(a)\n",
      "\n",
      "# Estos objetos mostrar\u00e1n por pantalla los valores de las magnitudes.\n",
      "title = ax.text(-0.45, 1.6, '', fontsize=20)\n",
      "l1 = ax.text(-1.5, 1.2, '', fontsize=14)\n",
      "l2 = ax.text(-1.5, 1., '', fontsize=14)\n",
      "l3 = ax.text(0.75, 1.1, '', fontsize=14)\n",
      "\n",
      "\n",
      "def init():\n",
      "    ''' En la funci\u00f3n inicializadora, como lo los objetos patch no pueden ser inicializados con datos vac\u00edos como las l\u00ednea,.\n",
      "        lo que hacemos es dibujarlos fuera de los l\u00edmites del gr\u00e1fico.\n",
      "    '''\n",
      "    \n",
      "    c.center = [0., 5.]    # Dibujamos el c\u00edrculo fuera del gr\u00e1fico.\n",
      "    \n",
      "    a.set_positions([0., 5.], [0., 5.])    # Dibujamos la flecha fuera del gr\u00e1fico.\n",
      "    \n",
      "    # Los objetos texto, los inicializamos vac\u00edos.\n",
      "    title.set_text('')\n",
      "    l1.set_text('')\n",
      "    l2.set_text('')\n",
      "    l3.set_text('')\n",
      "    \n",
      "    # Retornamos los objetos a ser actualizados\n",
      "    return c, a, title, l1, l2, l3\n",
      "\n",
      "\n",
      "def animate(ii):\n",
      "\n",
      "    # Calculamos el valor de las magnitudes.\n",
      "    t = np.deg2rad((ii * 2) % 360)\n",
      "    x = np.sin(t)\n",
      "    v = np.cos(t)\n",
      "    F = -np.sin(t)\n",
      "    \n",
      "    # Actualizamos la posici\u00f3n y color de la part\u00edcula.\n",
      "    c.center = [x, 0.]\n",
      "    c.set_color(cmap(np.abs(F)))\n",
      "    \n",
      "    # Actualizamos la posici\u00f3n inicial y final de los puntos de la fecha.\n",
      "    a.set_positions([x, 0.], [v + x, 0.])\n",
      "    \n",
      "    # Actualizamos el valor de los objetos que contienen el texto con los valores de las magnitudes.\n",
      "    title.set_text(r'$t = {0:.2f}$'.format(t))\n",
      "    l1.set_text(r'$x = {0:.2f}$'.format(x))\n",
      "    l2.set_text(r'$v = {0:.2f}$'.format(v))\n",
      "    l3.set_text(r'$F = {0:.2f}$'.format(F))\n",
      "\n",
      "    # Retornamos los objetos a ser actualizados\n",
      "    return c, a, title, l1, l2, l3\n",
      "\n",
      "# Llamamos a FuncAnimation\n",
      "animation = FuncAnimation(fig, animate, init_func=init, frames=3600, interval=25, blit=True)\n",
      "\n",
      "plt.show()    # Mostramos la animaci\u00f3n"
     ],
     "language": "python",
     "metadata": {},
     "outputs": []
    },
    {
     "cell_type": "heading",
     "level": 2,
     "metadata": {},
     "source": [
      "Guardar las animaciones"
     ]
    },
    {
     "cell_type": "markdown",
     "metadata": {},
     "source": [
      "El objeto ***animation*** devuelto por **FuncAnimation** tiene un m\u00e9todo save, que nos permite guardarla en un fichero de v\u00eddeo para compartir con quien queramos, colgarla en internet... para que dicho m\u00e9todo pueda utilizarse es necesario tener uno de estos dos programas: [ffmpeg](http://www.ffmpeg.org/) o ***MEncoder*** instalados y configurados para aparecer en el path del sistema.\n",
      "\n",
      "Guardar una animaci\u00f3n es tan sencillo como (ejemplo):\n",
      "\n",
      "*animation* = **FuncAnimation**(...)\n",
      "\n",
      "*animation*.**save**(*nombre_fichero*, *fps=30*, *writer='ffmpeg'*, *extra_args=['-vcodec', 'libx264']*)\n",
      "\n",
      "Los argumentos de **save** son:\n",
      "\n",
      "> **fps**: N\u00famero de cuadros por segundo\n",
      "\n",
      "> **writer**: Programa que utilizar\u00e1 *Matplotlib* para codificar y generar el fichero de v\u00eddeo.\n",
      "\n",
      "> **extra_args**: Opci\u00f3n que pasa una lista con par\u00e1metros que el codifcador es capaz de entender. En el ejemplo se usa para que el fichero resultante utilice el c\u00f3dec de alta compresi\u00f3n x264, muy utilizado para colgar v\u00eddeos en internet.\n",
      "\n",
      "**Nota**: el nombre de fichero ha de incluir la extensi\u00f3n (*nombre_de_fichero='ejemplo.mp4'*)"
     ]
    },
    {
     "cell_type": "heading",
     "level": 2,
     "metadata": {},
     "source": [
      "Referencias"
     ]
    },
    {
     "cell_type": "markdown",
     "metadata": {},
     "source": [
      "> Base de Python reconmendada en el [curso de #aeropython](https://github.com/AeroPython/Curso_AeroPython) de Juan Luis Cano [@Pybonacci](https://twitter.com/Pybonacci) y Alex S\u00e1ez [@Alex_S12](https://twitter.com/Alex__S12)\n",
      "\n",
      "> Ejemplo de animaci\u00f3n 3D [matplotlib.animation en el blog Pybonacci](https://pybonacci.wordpress.com/tag/animacion/)\n",
      "\n",
      "> Formas alternativa de generar un fichero de v\u00eddeo en [matplotlib.org](http://matplotlib.org/faq/howto_faq.html?highlight=faq#make-a-movie)\n",
      "\n",
      "> [Ejemplos de animaciones](http://jakevdp.github.io/blog/2012/08/18/matplotlib-animation-tutorial/) de Jave Vanderplas.\n",
      "\n",
      "> [Ejemplos de animaciones](http://matplotlib.org/examples/animation/index.html) de *Matplotlib*."
     ]
    },
    {
     "cell_type": "heading",
     "level": 2,
     "metadata": {},
     "source": [
      "Animaciones del autor"
     ]
    },
    {
     "cell_type": "markdown",
     "metadata": {},
     "source": [
      "> [Animaci\u00f3n de Algoritmo Gen\u00e9tico](https://github.com/newlawrence/anigenalg)\n",
      "\n",
      "> [Animaci\u00f3n de Motor Radial](https://github.com/newlawrence/aniradeng)"
     ]
    },
    {
     "cell_type": "code",
     "collapsed": false,
     "input": [],
     "language": "python",
     "metadata": {},
     "outputs": [],
     "prompt_number": 5
    }
   ],
   "metadata": {}
  }
 ]
}