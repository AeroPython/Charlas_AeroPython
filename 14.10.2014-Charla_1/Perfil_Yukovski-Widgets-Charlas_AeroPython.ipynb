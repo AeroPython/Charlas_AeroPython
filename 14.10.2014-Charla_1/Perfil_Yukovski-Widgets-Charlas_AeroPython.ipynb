{
 "metadata": {
  "name": "",
  "signature": "sha256:9768fa048758b03eacc00414dff6999bf1e9de825df0b01e7c8b57fe0111d447"
 },
 "nbformat": 3,
 "nbformat_minor": 0,
 "worksheets": [
  {
   "cells": [
    {
     "cell_type": "markdown",
     "metadata": {},
     "source": [
      "# Charlas #AeroPython\n",
      "\n",
      "## 10 de abril de 2014\n",
      "\n",
      "## Juan Luis Cano ([@Pybonacci](https://twitter.com/Pybonacci)) y \u00c1lex S\u00e1ez ([@Alex__S12](https://twitter.com/Alex__S12))"
     ]
    },
    {
     "cell_type": "markdown",
     "metadata": {},
     "source": [
      "<a rel=\"license\" href=\"http://creativecommons.org/licenses/by/4.0/deed.es\"><img alt=\"Licencia Creative Commons\" style=\"border-width:0\" src=\"http://i.creativecommons.org/l/by/4.0/88x31.png\" /></a><br /><span xmlns:dct=\"http://purl.org/dc/terms/\" property=\"dct:title\">Curso AeroPython</span> por <span xmlns:cc=\"http://creativecommons.org/ns#\" property=\"cc:attributionName\">Juan Luis Cano Rodriguez y Alejandro S\u00e1ez Mollejo</span> se distribuye bajo una <a rel=\"license\" href=\"http://creativecommons.org/licenses/by/4.0/deed.es\">Licencia Creative Commons Atribuci\u00f3n 4.0 Internacional</a>."
     ]
    },
    {
     "cell_type": "code",
     "collapsed": false,
     "input": [
      "import numpy as np\n",
      "%matplotlib inline\n",
      "import matplotlib.pyplot as plt"
     ],
     "language": "python",
     "metadata": {},
     "outputs": [],
     "prompt_number": 1
    },
    {
     "cell_type": "code",
     "collapsed": false,
     "input": [
      "def transf_Yukovski(param_a, t):\n",
      "    \"\"\"Dado el punto t (complejo) y el par\u00e1metro a\n",
      "    a de la transformaci\u00f3n proporciona el punto\n",
      "    tau (complejo) en el que se transforma t.\"\"\"\n",
      "    \n",
      "    tau = t + param_a**2 / t\n",
      "    return tau"
     ],
     "language": "python",
     "metadata": {},
     "outputs": [],
     "prompt_number": 2
    },
    {
     "cell_type": "code",
     "collapsed": false,
     "input": [
      "def transformacion_geometrica(a, landa, delta, N_perfil=100):\n",
      "    #punto del plano complejo\n",
      "    t0 = a * (-landa + delta * 1j)\n",
      "    #valor del radio de la circunferencia\n",
      "    R = a * np.sqrt((1 + landa)**2 + delta**2)\n",
      "\n",
      "    #se barre un \u00e1ngulo de 0 a 2 pi\n",
      "    theta = np.linspace(0, 2*np.pi, N_perfil)\n",
      "    #se crean las coordenadas del los puntos\n",
      "    #de la circunferencia\n",
      "    Xc = - a * landa + R * np.cos(theta)\n",
      "    Yc =   a * delta + R * np.sin(theta)\n",
      "    #se crean las coordenadas del los puntos\n",
      "    #del perfil\n",
      "    Puntos_perfil = transf_Yukovski(a, Xc+Yc*1j)\n",
      "    Xp, Yp = np.real(Puntos_perfil) , np.imag(Puntos_perfil)\n",
      "    \n",
      "    #Se pintan la cirunferencia y el perfil\n",
      "    fig, ax = plt.subplots(1,2)\n",
      "    fig.set_size_inches(15,15)\n",
      "    p_c = plt.Polygon(list(zip(Xc, Yc)), color=\"#cccccc\", zorder=1)\n",
      "    ax[0].add_patch(p_c)\n",
      "    ax[0].plot(Xc,Yc)\n",
      "    ax[0].scatter(np.real(t0), np.imag(t0))\n",
      "    ax[0].set_aspect(1)\n",
      "    ax[0].set_xlim(-3, 3)\n",
      "    ax[0].set_ylim(-2,2)\n",
      "    ax[0].grid()\n",
      "    \n",
      "    p_p = plt.Polygon(list(zip(Xp, Yp)), color=\"#cccccc\", zorder=1)\n",
      "    ax[1].add_patch(p_p)\n",
      "    ax[1].plot(Xp,Yp)\n",
      "    ax[1].set_aspect(1)\n",
      "\n",
      "    ax[1].set_xlim(-3, 3)\n",
      "    ax[1].set_ylim(-2,2)\n",
      "    ax[1].grid()\n",
      "    "
     ],
     "language": "python",
     "metadata": {},
     "outputs": [],
     "prompt_number": 3
    },
    {
     "cell_type": "code",
     "collapsed": false,
     "input": [
      "def flujo_alrededor_circunferencia(a, landa, delta, alfa, U, N_perfil=100, N_malla = 50):\n",
      "    \n",
      "    #punto del plano complejo\n",
      "    t0 = a * (-landa + delta * 1j)\n",
      "    #valor del radio de la circunferencia\n",
      "    R = a * np.sqrt((1 + landa)**2 + delta**2)\n",
      "\n",
      "    #se barre un \u00e1ngulo de 0 a 2 pi\n",
      "    theta = np.linspace(0, 2*np.pi, N_perfil)\n",
      "    #se crean las coordenadas del los puntos\n",
      "    #de la circunferencia\n",
      "    Xc = - a * landa + R * np.cos(theta)\n",
      "    Yc =   a * delta + R * np.sin(theta)\n",
      "    \n",
      "    #se crea la malla donde se va pintar la funci\u00f3n de corriente\n",
      "    x_max = 8\n",
      "    y_max = 3\n",
      "    x = np.linspace(-x_max, x_max, N_malla)\n",
      "    y = np.linspace(-y_max, y_max, N_malla)\n",
      "    XX, YY = np.meshgrid(x,y)\n",
      "    t = XX + YY * 1j\n",
      "    \n",
      "    alfa = np.deg2rad(alfa)\n",
      "    # Circulaci\u00f3n que hay que a\u00f1adir al cilindro para\n",
      "    # que se cumpla la hip\u00f3tesis de Kutta en el perfil\n",
      "    T = 4 * np.pi * a * U * (delta + (1+landa) * alfa)\n",
      "    #Potencial complejo\n",
      "    f = U * ( (t - t0) * np.exp(-alfa *1j) + R**2 / (t - t0) * np.exp(alfa * 1j) )\n",
      "    f += 1j * T / (2* np.pi) * np.log(t - t0)\n",
      "    #Funci\u00f3n de corriente\n",
      "    psi = np.imag(f)\n",
      "    #Velocidad conjugada\n",
      "    dfdt = U * ( 1 * np.exp(-alfa * 1j) - R**2 / (t - t0)**2 * np.exp(alfa * 1j) )\n",
      "    dfdt = dfdt + 1j * T / (2*np.pi) * 1 / (t - t0)\n",
      "    #coeficiente de presion\n",
      "    cp = 1 - np.abs(dfdt)**2 / U**2\n",
      "    \n",
      "    #Se pinta\n",
      "    fig, ax = plt.subplots(3,1)\n",
      "    #lineas de corriente\n",
      "    fig.set_size_inches(10,10)\n",
      "    ax[0].contour(XX, YY, psi, np.linspace(-10,10,50), colors = ['blue', 'blue'])\n",
      "    ax[0].grid()\n",
      "    ax[0].set_aspect(1)\n",
      "    p = plt.Polygon(list(zip(Xc, Yc)), color=\"#cccccc\", zorder=10)\n",
      "    ax[0].add_patch(p)\n",
      "    #Campo de velocidades\n",
      "    ax[1].contourf(XX, YY, np.abs(dfdt), np.linspace(0, 5*U, 200))\n",
      "    p = plt.Polygon(list(zip(Xc, Yc)), color=\"#cccccc\", zorder=10)\n",
      "    ax[1].add_patch(p)\n",
      "    ax[1].set_aspect(1)\n",
      "    ax[1].grid()\n",
      "    #campo de presiones\n",
      "    ax[2].contourf(XX, YY, cp, np.linspace(-8, 2, 200))\n",
      "    p = plt.Polygon(list(zip(Xc, Yc)), color=\"#cccccc\", zorder=10)\n",
      "    ax[2].add_patch(p)\n",
      "    ax[2].set_aspect(1)\n",
      "    ax[2].grid()\n"
     ],
     "language": "python",
     "metadata": {},
     "outputs": [],
     "prompt_number": 4
    },
    {
     "cell_type": "code",
     "collapsed": false,
     "input": [
      "def flujo_perfil_circunferencia(landa, delta, alfa, a=1, U=1, N_perfil=100, N_malla = 100):\n",
      "    #punto del plano complejo\n",
      "    t0 = a * (-landa + delta * 1j)\n",
      "    #valor del radio de la circunferencia\n",
      "    R = a * np.sqrt((1 + landa)**2 + delta**2)\n",
      "\n",
      "    #se barre un \u00e1ngulo de 0 a 2 pi\n",
      "    theta = np.linspace(0, 2*np.pi, N_perfil)\n",
      "    #se crean las coordenadas del los puntos\n",
      "    #de la circunferencia\n",
      "    Xc = - a * landa + R * np.cos(theta)\n",
      "    Yc =   a * delta + R * np.sin(theta)\n",
      "    \n",
      "    #se crean las coordenadas del los puntos\n",
      "    #del perfil\n",
      "    Puntos_perfil = transf_Yukovski(a, Xc+Yc*1j)\n",
      "    Xp, Yp = np.real(Puntos_perfil) , np.imag(Puntos_perfil)\n",
      "    \n",
      "    #se crea la malla donde se va pintar la funci\u00f3n de corriente\n",
      "    x_max = 8\n",
      "    y_max = 3\n",
      "    x = np.linspace(-x_max, x_max, N_malla)\n",
      "    y = np.linspace(-y_max, y_max, N_malla)\n",
      "    XX, YY = np.meshgrid(x,y)\n",
      "    t = XX + YY * 1j\n",
      "    \n",
      "    for i in range(np.size(t[0,:])):\n",
      "        for j in range(np.size(t[:, 0])):\n",
      "            if np.abs(t[i,j]-t0)<0.95*R:\n",
      "                t[i,j] = False\n",
      "    \n",
      "    alfa = np.deg2rad(alfa)\n",
      "    # Circulaci\u00f3n que hay que a\u00f1adir al cilindro para\n",
      "    # que se cumpla la hip\u00f3tesis de Kutta en el perfil\n",
      "    T = 4 * np.pi * a * U * (delta + (1+landa) * alfa)\n",
      "    #Potencial complejo\n",
      "    f = U * ( (t - t0) * np.exp(-alfa *1j) + R**2 / (t - t0) * np.exp(alfa * 1j) )\n",
      "    f += 1j * T / (2* np.pi) * np.log(t - t0)\n",
      "    #Funci\u00f3n de corriente\n",
      "    psi = np.imag(f)   \n",
      "\n",
      "    Puntos_plano_tau = transf_Yukovski(a, t)\n",
      "    XX_tau, YY_tau = np.real(Puntos_plano_tau) , np.imag(Puntos_plano_tau)\n",
      "                \n",
      "    #Se pinta\n",
      "    fig, ax = plt.subplots(1,2)\n",
      "    #lineas de corriente\n",
      "    fig.set_size_inches(15,15)\n",
      "    \n",
      "    ax[0].contour(XX, YY, psi, np.linspace(-10,10,50), colors = ['blue', 'blue'])\n",
      "    ax[0].grid()\n",
      "    ax[0].set_aspect(1)\n",
      "    p = plt.Polygon(list(zip(Xc, Yc)), color=\"#cccccc\", zorder=10)\n",
      "    ax[0].add_patch(p)\n",
      "    ax[0].set_xlim(-5, 5)\n",
      "    ax[0].set_ylim(-2,2)\n",
      "    \n",
      "    ax[1].contour(XX_tau, YY_tau, psi, np.linspace(-10,10,50), colors = ['blue', 'blue'])\n",
      "    ax[1].grid()\n",
      "    ax[1].set_aspect(1)\n",
      "    p = plt.Polygon(list(zip(Xp, Yp)), color=\"#cccccc\", zorder=10)\n",
      "    ax[1].add_patch(p)\n",
      "    ax[1].set_xlim(-5, 5)\n",
      "    ax[1].set_ylim(-2,2)"
     ],
     "language": "python",
     "metadata": {},
     "outputs": [],
     "prompt_number": 5
    },
    {
     "cell_type": "code",
     "collapsed": false,
     "input": [
      "from IPython.html.widgets import interact\n",
      "from IPython.display import clear_output, display"
     ],
     "language": "python",
     "metadata": {},
     "outputs": [],
     "prompt_number": 6
    },
    {
     "cell_type": "code",
     "collapsed": false,
     "input": [
      "w = interact(transformacion_geometrica, landa=(-1.,1), delta=(-1.,1), a=(0,2.), N_perfil=(4, 200) )"
     ],
     "language": "python",
     "metadata": {},
     "outputs": [
      {
       "metadata": {},
       "output_type": "display_data",
       "png": "[encoded data removed]",
       "text": [
        "<matplotlib.figure.Figure at 0x6e981d0>"
       ]
      },
      {
       "output_type": "stream",
       "stream": "stdout",
       "text": [
        "\r"
       ]
      },
      {
       "output_type": "stream",
       "stream": "stderr",
       "text": [
        "\r"
       ]
      }
     ],
     "prompt_number": 7
    },
    {
     "cell_type": "code",
     "collapsed": false,
     "input": [
      "q = interact(flujo_alrededor_circunferencia, landa=(0.,1), delta=(0.,1), alfa=(0, 30), a=(0,2.), U=(0.1,2))"
     ],
     "language": "python",
     "metadata": {},
     "outputs": []
    },
    {
     "cell_type": "code",
     "collapsed": false,
     "input": [
      "p = interact(flujo_perfil_circunferencia, a=1, landa=(0.,1), delta=(0.,1), alfa=(0, 30), U=(0,10))"
     ],
     "language": "python",
     "metadata": {},
     "outputs": []
    },
    {
     "cell_type": "code",
     "collapsed": false,
     "input": [],
     "language": "python",
     "metadata": {},
     "outputs": []
    }
   ],
   "metadata": {}
  }
 ]
}